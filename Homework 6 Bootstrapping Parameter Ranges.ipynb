{
 "cells": [
  {
   "cell_type": "markdown",
   "id": "1873ff44",
   "metadata": {
    "slideshow": {
     "slide_type": "subslide"
    }
   },
   "source": [
    "# Bootstrapping to estimate parameter ranges of nonlinear models\n",
    "\n",
    "When we first introduced ourselves to regression, we focused the regression algorithm’s ability to find the “truth”, i.e. how close to the true parameter values does the algorithm get.\n",
    "\n",
    "In statistics and boostrapping, the truth is (typically) unknown and there is noise associated with any given measurement. So our question becomes “how confident am I that the parameters of my model are not zero?” And as discussed in class, all kinds of challenges arise when using bootstrapping. Here, we'll try a simple example.\n",
    "\n",
    "Let's consider one of our equations for bacterial growth:\n",
    "\\begin{align}\n",
    "\\dot{y} = \\frac{y^3}{a+y^3}-by\n",
    "\\end{align}\n",
    "\n",
    "where y is the concentration of bacterium and a and b are parameters that help define the rate of bacterial growth and loss, respectively. \n",
    "\n",
    "You have been provided with data, called \"Homework11 Data.csv\". Use this data for the following excercises. In this file, you'll find the time points sampled and the concentration of bacterium (y) for 5 independent experiments. We will consider data to be independent across time and experiments.\n",
    "\n",
    "## Part 1: Plot data and perform initial fitting\n",
    "\n",
    "In the space below, load the data and write the code to fit the parameters of our model to the data using minimize or fsolve. You may want to revisit your previous homeworks. To make things a little easier, I'll give you the first guess for your parameter. Go with (a,b) = (0.3,0.8). After fitting:\n",
    "   - clearly indicate what were the parameter values and the value of the cost function you implemented.\n",
    "   - Plot on one plot the data and the fitted model's response"
   ]
  },
  {
   "cell_type": "code",
   "execution_count": 59,
   "id": "a3ed747e",
   "metadata": {},
   "outputs": [
    {
     "name": "stdout",
     "output_type": "stream",
     "text": [
      "[[10.    6.2   4.07  8.13  7.97  7.07]\n",
      " [20.    8.84  5.63 10.9  10.9   9.8 ]\n",
      " [30.    9.99  9.16 11.    8.8  10.3 ]\n",
      " [50.   10.8  11.7  10.4  10.6   8.65]]\n",
      "0.15389374110083404\n",
      "      fun: 0.15389373961051767\n",
      " hess_inv: array([[5.95950437e-06, 2.18546821e-05],\n",
      "       [2.18546821e-05, 8.04219520e-05]])\n",
      "      jac: array([-2.04890966e-07,  1.98818743e-05])\n",
      "  message: 'Desired error not necessarily achieved due to precision loss.'\n",
      "     nfev: 215\n",
      "      nit: 28\n",
      "     njev: 68\n",
      "   status: 2\n",
      "  success: False\n",
      "        x: array([-21.03536808,   0.09776889])\n"
     ]
    },
    {
     "data": {
      "text/plain": [
       "<matplotlib.legend.Legend at 0x208a25ff2b0>"
      ]
     },
     "execution_count": 59,
     "metadata": {},
     "output_type": "execute_result"
    },
    {
     "data": {
      "image/png": "[encoded data removed]",
      "text/plain": [
       "<Figure size 432x288 with 1 Axes>"
      ]
     },
     "metadata": {
      "needs_background": "light"
     },
     "output_type": "display_data"
    }
   ],
   "source": [
    "import pandas as pd \n",
    "import numpy as np\n",
    "import matplotlib.pyplot as plt\n",
    "from scipy.integrate import odeint \n",
    "from scipy.optimize import minimize\n",
    "\n",
    "#define constants\n",
    "\n",
    "\n",
    "#load data using pandas\n",
    "dat = pd.read_csv('Homework 6 Data.csv', header=0)\n",
    "\n",
    "array = dat.values\n",
    "print(array)\n",
    "\n",
    "t = array[:,0]\n",
    "\n",
    "#break apart data into sets for each experiment\n",
    "Exp1 = array[:,1]\n",
    "Exp2 = array[:,2]\n",
    "Exp3 = array[:,3]\n",
    "Exp4 = array[:,4]\n",
    "Exp5 = array[:,5]\n",
    "\n",
    "#Get averages from experiments at each time point\n",
    "Avg1 = (Exp1[0] + Exp2[0] + Exp3[0] + Exp4[0] + Exp5[0])/5\n",
    "Avg2 = (Exp1[1] + Exp2[1] + Exp3[1] + Exp4[1] + Exp5[1])/5\n",
    "Avg3 = (Exp1[2] + Exp2[2] + Exp3[2] + Exp4[2] + Exp5[2])/5\n",
    "Avg4 = (Exp1[3] + Exp2[3] + Exp3[3] + Exp4[3] + Exp5[3])/5\n",
    "\n",
    "#Combine average data into an array\n",
    "training_data = np.array([[Avg1],[Avg2],[Avg3],[Avg4]])\n",
    "# Combo = np.array([Exp1,Exp2,Exp3,Exp4,Exp5])\n",
    "\n",
    "#function for the ode\n",
    "def odes(v,t,a,b):\n",
    "    \n",
    "    y = v[0]\n",
    " \n",
    "    f = [(y**3/(a+y**3)) - b*y]\n",
    "    return f\n",
    "\n",
    "ic_3 = [Avg1]\n",
    "\n",
    "#function to solve for RMSE\n",
    "def RMSE(params):\n",
    "    a,b = params;\n",
    "    ODE_output = odeint(odes, ic_3, t, args = (a,b));\n",
    "    err = training_data - ODE_output\n",
    "    return np.sqrt(np.sum(err**2))\n",
    "\n",
    "print(RMSE([-21.035,0.097769]))\n",
    "\n",
    "#minimize to estimate parameters with initial guess\n",
    "sol = minimize(RMSE, x0 = (0.3, 0.8));\n",
    "print(sol);\n",
    "\n",
    "#solve the ode at the estimated parameters\n",
    "odesol = odeint(odes, ic_3, t, args = (-21.03536808,0.09776889))\n",
    "\n",
    "#plot of data for y vs fitted ODE's of y\n",
    "plt.plot(t, odesol, color = 'r')\n",
    "plt.plot(t, training_data, color = 'm')\n",
    "plt.xlabel(\"Time\")\n",
    "plt.ylabel(\"y\")\n",
    "plt.legend(['y (ode)', 'y (data)'])"
   ]
  },
  {
   "cell_type": "markdown",
   "id": "482027f3",
   "metadata": {},
   "source": [
    "## Part 2: Use sampling with replacement to create distributions of parameters that fit the data\n",
    "\n",
    "Our hypothesis is that both a and b are greater than 0. Use the bootstrap method to create distributions of estimates of our parameter values. We can do this by, **for each iteration:**\n",
    "   - Resample the data at each time point using sample with replacement (search online how to do).\n",
    "   - Use minimize to refit the model to the resampled data\n",
    "   - Save the fitted parameter estimates and the value of the cost function.\n",
    "   \n",
    "Do this for at least 200 iterations. HINT: this code may take a long time to run. It would be best to get the code working with only a few iterations. And once happy, then try 200. After completing, plot histograms of the fitted parameter values and cost function values. Figures must be clearly labeled and obvious to read. \n",
    "\n",
    "Based on these data, what is the p value for the null hypothesis that a and b are equal to zero? Calculate the one sided p value, based on the idea that we expect them to be greater than zero.\n",
    "   "
   ]
  },
  {
   "cell_type": "code",
   "execution_count": 15,
   "id": "b7d9af61",
   "metadata": {},
   "outputs": [],
   "source": [
    "from sklearn.utils import resample\n",
    "\n",
    "#break up data into each time point\n",
    "datanot = array[:,1:5]\n",
    "\n",
    "y10 = datanot[0,:]\n",
    "y20 = datanot[1,:]\n",
    "y30 = datanot[2,:]\n",
    "y50 = datanot[3,:]\n",
    "\n",
    "#for loop for resampling the data for 200 iterations\n",
    "n=0\n",
    "RMSEvals = []\n",
    "avals = []\n",
    "bvals = []\n",
    "for n in range(200):\n",
    "    \n",
    "    #resample data at each time point\n",
    "    y10new = resample(y10, n_samples=5, replace=True)\n",
    "    y20new = resample(y20, n_samples=5, replace=True)\n",
    "    y30new = resample(y30, n_samples=5, replace=True)\n",
    "    y50new = resample(y50, n_samples=5, replace=True)\n",
    "    \n",
    "    #average resampled data\n",
    "    y10avg = np.average(y10new)\n",
    "    y20avg = np.average(y20new)\n",
    "    y30avg = np.average(y30new)\n",
    "    y50avg = np.average(y50new)\n",
    "    \n",
    "    #combine averages into array\n",
    "    training_data = np.array([[y10avg],[y20avg],[y30avg],[y50avg]])\n",
    "\n",
    "    ic_3 = [y10avg]\n",
    "    \n",
    "    #solve for RMSE and minimize parameters\n",
    "    def RMSE(params):\n",
    "        a,b = params;\n",
    "        ODE_output = odeint(odes, ic_3, t, args = (a,b));\n",
    "        err = training_data - ODE_output\n",
    "        return np.sqrt(np.sum(err**2))\n",
    "\n",
    "    sol = minimize(RMSE, x0 = (0.3, 0.8));\n",
    "    \n",
    "    #pull a, b, RMSE values into separate arrays for each iteration\n",
    "    avals.append(sol.x[0])\n",
    "    bvals.append(sol.x[1])\n",
    "    RMSEvals.append(RMSE([avals[n],bvals[n]]))"
   ]
  },
  {
   "cell_type": "code",
   "execution_count": 55,
   "id": "8d02661e",
   "metadata": {},
   "outputs": [
    {
     "name": "stdout",
     "output_type": "stream",
     "text": [
      "[3.0, 2.0, 1.0, 3.0, 4.0, 1.0, 10.0, 9.0, 11.0, 15.0, 12.0, 13.0, 29.0, 20.0, 15.0, 9.0, 11.0, 8.0, 8.0, 4.0, 0.0, 2.0, 2.0, 0.0, 2.0, 1.0, 3.0, 0.0, 0.0, 0.0, 0.0, 0.0, 0.0, 0.0, 0.0, 1.0, 0.0, 0.0, 0.0, 0.0, 0.0, 0.0, 0.0, 0.0, 0.0, 0.0, 0.0, 0.0, 0.0, 1.0]\n"
     ]
    },
    {
     "data": {
      "image/png": "[encoded data removed]",
      "text/plain": [
       "<Figure size 432x288 with 1 Axes>"
      ]
     },
     "metadata": {
      "needs_background": "light"
     },
     "output_type": "display_data"
    },
    {
     "data": {
      "image/png": "[encoded data removed]",
      "text/plain": [
       "<Figure size 432x288 with 1 Axes>"
      ]
     },
     "metadata": {
      "needs_background": "light"
     },
     "output_type": "display_data"
    },
    {
     "data": {
      "image/png": "[encoded data removed]",
      "text/plain": [
       "<Figure size 432x288 with 1 Axes>"
      ]
     },
     "metadata": {
      "needs_background": "light"
     },
     "output_type": "display_data"
    },
    {
     "name": "stdout",
     "output_type": "stream",
     "text": [
      "The P value for the null hypothesis that a and b = 0 is 0.03\n",
      "The P value for the hypothesis that a and b > 0 is 0.82\n"
     ]
    }
   ],
   "source": [
    "import matplotlib.pyplot as plt\n",
    "\n",
    "#plot histogram for parameters and RMSE values\n",
    "plt.hist(avals, bins = 50)\n",
    "plt.xlabel('a values')\n",
    "plt.ylabel('Count')\n",
    "#get histogram height at each a val\n",
    "ax = plt.gca()\n",
    "p = ax.patches\n",
    "Counta = [patch.get_height() for patch in p]\n",
    "print(Counta)\n",
    "plt.show()\n",
    "\n",
    "plt.hist(bvals, bins = 50)\n",
    "plt.xlabel('b values')\n",
    "plt.ylabel('Count')\n",
    "ax = plt.gca()\n",
    "p = ax.patches\n",
    "Countb = [patch.get_height() for patch in p]\n",
    "plt.show()\n",
    "\n",
    "plt.hist(RMSEvals, bins = 50)\n",
    "plt.xlabel('RMSE values')\n",
    "plt.ylabel('Count')\n",
    "ax = plt.gca()\n",
    "p = ax.patches\n",
    "CountRMSE = [patch.get_height() for patch in p]\n",
    "plt.show()\n",
    "\n",
    "#From plots can caculate the Pval for both a and b being equal to 0 and greater than 0\n",
    "Pval0 = (13+0)/(np.sum(Counta)+np.sum(Countb))\n",
    "Pvalover0 = (np.sum(Counta[11:50])+np.sum(Countb))/(np.sum(Counta)+np.sum(Countb))\n",
    "\n",
    "print(f'The P value for the null hypothesis that a and b = 0 is {Pval0:0.2f}')\n",
    "print(f'The P value for the hypothesis that a and b > 0 is {Pvalover0:0.2f}')"
   ]
  },
  {
   "cell_type": "markdown",
   "id": "99b4a942",
   "metadata": {},
   "source": [
    "## Part 3 Analyze fit results\n",
    "\n",
    "One a single figure, plot the model's response vs time for all 200 estimates of the parameter values. Are the fits reasonable? Should any of the fits be discounted? Why so? Does this change how you define your p values above? **Defend your answer here and include any plots as necessary:**\n",
    "\n"
   ]
  },
  {
   "cell_type": "code",
   "execution_count": 58,
   "id": "f9a9b368",
   "metadata": {},
   "outputs": [
    {
     "data": {
      "image/png": "[encoded data removed]",
      "text/plain": [
       "<Figure size 432x288 with 1 Axes>"
      ]
     },
     "metadata": {
      "needs_background": "light"
     },
     "output_type": "display_data"
    }
   ],
   "source": [
    "#set training data and ic back to origional values\n",
    "training_data = np.array([[Avg1],[Avg2],[Avg3],[Avg4]])\n",
    "ic_3 = [Avg1]\n",
    "\n",
    "#for loop to plot model's response vs time for each 200 estimates of parameters\n",
    "odesolvals = []\n",
    "n = 0\n",
    "for n in range(200):\n",
    "    odesol = odeint(odes, ic_3, t, args = (avals[n],bvals[n]))\n",
    "    odesolvals.append(odesol)\n",
    "    plt.plot(t, odesol, color = 'r')\n",
    "    plt.plot(t, training_data, color = 'm')\n",
    "    plt.xlabel(\"Time\")\n",
    "    plt.ylabel(\"y\")\n",
    "    plt.legend(['y (ode)', 'y (data)'])\n",
    "plt.show()"
   ]
  },
  {
   "cell_type": "markdown",
   "id": "50a528e8",
   "metadata": {},
   "source": [
    "The majority of the fits seem reasonable although there are some fits that are off and then also some that are really off as can be seen by the plot above. The few fits that havea a very negative slope should be discounted. It seems these plots are fits of the data that are mirrored which for some reason the minimize function converged to. We know from the dataset we gathered that the concentration on average at least should be increasing and not decreasing to 0. If we were to discard these plots, it would slighly decrease the overall p value if both of the a and b derived from minimize are positive. If one of them is negative, then it will have no effect."
   ]
  },
  {
   "cell_type": "markdown",
   "id": "68ca50c4",
   "metadata": {},
   "source": [
    "## Project Data Description\n",
    "The measument I am planning to analyze is covid case count per county and the two factors are population density and GINI index per country."
   ]
  },
  {
   "cell_type": "code",
   "execution_count": null,
   "id": "710178d9",
   "metadata": {},
   "outputs": [],
   "source": []
  }
 ],
 "metadata": {
  "kernelspec": {
   "display_name": "Python 3 (ipykernel)",
   "language": "python",
   "name": "python3"
  },
  "language_info": {
   "codemirror_mode": {
    "name": "ipython",
    "version": 3
   },
   "file_extension": ".py",
   "mimetype": "text/x-python",
   "name": "python",
   "nbconvert_exporter": "python",
   "pygments_lexer": "ipython3",
   "version": "3.9.7"
  }
 },
 "nbformat": 4,
 "nbformat_minor": 5
}
